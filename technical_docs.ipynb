{
  "nbformat": 4,
  "nbformat_minor": 0,
  "metadata": {
    "colab": {
      "name": "technical-docs.ipynb",
      "provenance": [],
      "authorship_tag": "ABX9TyOW0CA2BkPHOahdHUPKWNCl",
      "include_colab_link": true
    },
    "kernelspec": {
      "name": "python3",
      "display_name": "Python 3"
    }
  },
  "cells": [
    {
      "cell_type": "markdown",
      "metadata": {
        "id": "view-in-github",
        "colab_type": "text"
      },
      "source": [
        "<a href=\"https://colab.research.google.com/github/diegoaroa/BerkeleyX-Data8.3x/blob/main/technical_docs.ipynb\" target=\"_parent\"><img src=\"https://colab.research.google.com/assets/colab-badge.svg\" alt=\"Open In Colab\"/></a>"
      ]
    },
    {
      "cell_type": "markdown",
      "metadata": {
        "id": "AWi7jmu67D8w"
      },
      "source": [
        "## Ingest"
      ]
    },
    {
      "cell_type": "markdown",
      "metadata": {
        "id": "8PCI6ASP7KUI"
      },
      "source": [
        "## Modeling"
      ]
    },
    {
      "cell_type": "code",
      "metadata": {
        "id": "nV0jF0WDaojM"
      },
      "source": [
        "def hello():\n",
        "  return \"hello\""
      ],
      "execution_count": null,
      "outputs": []
    },
    {
      "cell_type": "markdown",
      "metadata": {
        "id": "8Eh0WUSk7PXw"
      },
      "source": [
        ""
      ]
    },
    {
      "cell_type": "markdown",
      "metadata": {
        "id": "QeMmgYIS7SMo"
      },
      "source": [
        "### This is a markdown feature"
      ]
    },
    {
      "cell_type": "code",
      "metadata": {
        "id": "BfUsVX0A7XOA"
      },
      "source": [
        ""
      ],
      "execution_count": null,
      "outputs": []
    }
  ]
}